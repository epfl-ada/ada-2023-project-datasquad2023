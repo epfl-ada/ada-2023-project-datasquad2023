{
 "cells": [
  {
   "cell_type": "code",
   "execution_count": 2,
   "metadata": {},
   "outputs": [],
   "source": [
    "import matplotlib.pyplot as plt\n",
    "import seaborn as sns\n",
    "import pandas as pd\n",
    "import numpy as np\n",
    "from scipy import stats\n",
    "\n",
    "%matplotlib inline"
   ]
  },
  {
   "cell_type": "markdown",
   "metadata": {},
   "source": [
    "## Loads data and preprocess fields"
   ]
  },
  {
   "cell_type": "code",
   "execution_count": 3,
   "metadata": {},
   "outputs": [],
   "source": [
    "df_vd_f = pd.read_feather(\"./yt_metadata_helper.feather\")\n",
    "df_ch_f = pd.read_csv(\"./df_channels_en.tsv.gz\", compression=\"infer\", sep=\"\\t\")\n",
    "df_vd_f[\"dummmy\"] = 1\n",
    "df_ch_f[\"join_date\"] = pd.to_datetime(df_ch_f[\"join_date\"])"
   ]
  },
  {
   "cell_type": "markdown",
   "metadata": {},
   "source": [
    "## 1. Video and channel statistics"
   ]
  },
  {
   "cell_type": "code",
   "execution_count": 4,
   "metadata": {},
   "outputs": [
    {
     "data": {
      "text/plain": [
       "array(['Autos & Vehicles', 'Comedy', 'Education', 'Entertainment',\n",
       "       'Film and Animation', 'Gaming', 'Howto & Style', 'Music',\n",
       "       'News & Politics', 'Nonprofits & Activism', 'People & Blogs',\n",
       "       'Pets & Animals', 'Science & Technology', 'Sports',\n",
       "       'Travel & Events', 'nan'], dtype=object)"
      ]
     },
     "execution_count": 4,
     "metadata": {},
     "output_type": "execute_result"
    }
   ],
   "source": [
    "np.unique(df_ch_f[\"category_cc\"].astype(str))"
   ]
  },
  {
   "cell_type": "code",
   "execution_count": 5,
   "metadata": {},
   "outputs": [
    {
     "data": {
      "text/plain": [
       "array(['', 'Autos & Vehicles', 'Comedy', 'Education', 'Entertainment',\n",
       "       'Film & Animation', 'Gaming', 'Howto & Style', 'Movies', 'Music',\n",
       "       'News & Politics', 'Nonprofits & Activism', 'People & Blogs',\n",
       "       'Pets & Animals', 'Science & Technology', 'Shows', 'Sports',\n",
       "       'Travel & Events'], dtype=object)"
      ]
     },
     "execution_count": 5,
     "metadata": {},
     "output_type": "execute_result"
    }
   ],
   "source": [
    "np.unique(df_vd_f[\"categories\"].astype(str))"
   ]
  },
  {
   "cell_type": "code",
   "execution_count": 6,
   "metadata": {},
   "outputs": [
    {
     "data": {
      "text/html": [
       "<div>\n",
       "<style scoped>\n",
       "    .dataframe tbody tr th:only-of-type {\n",
       "        vertical-align: middle;\n",
       "    }\n",
       "\n",
       "    .dataframe tbody tr th {\n",
       "        vertical-align: top;\n",
       "    }\n",
       "\n",
       "    .dataframe thead th {\n",
       "        text-align: right;\n",
       "    }\n",
       "</style>\n",
       "<table border=\"1\" class=\"dataframe\">\n",
       "  <thead>\n",
       "    <tr style=\"text-align: right;\">\n",
       "      <th></th>\n",
       "      <th>category_cc</th>\n",
       "      <th>join_date</th>\n",
       "      <th>channel</th>\n",
       "      <th>name_cc</th>\n",
       "      <th>subscribers_cc</th>\n",
       "      <th>videos_cc</th>\n",
       "      <th>subscriber_rank_sb</th>\n",
       "      <th>weights</th>\n",
       "    </tr>\n",
       "  </thead>\n",
       "  <tbody>\n",
       "    <tr>\n",
       "      <th>0</th>\n",
       "      <td>Gaming</td>\n",
       "      <td>2010-04-29</td>\n",
       "      <td>UC-lHJZR3Gqxm24_Vd_AJ5Yw</td>\n",
       "      <td>PewDiePie</td>\n",
       "      <td>101000000</td>\n",
       "      <td>3956</td>\n",
       "      <td>3.0</td>\n",
       "      <td>2.0870</td>\n",
       "    </tr>\n",
       "    <tr>\n",
       "      <th>1</th>\n",
       "      <td>Education</td>\n",
       "      <td>2006-09-01</td>\n",
       "      <td>UCbCmjCuTUZos6Inko4u57UQ</td>\n",
       "      <td>Cocomelon - Nursery ...</td>\n",
       "      <td>60100000</td>\n",
       "      <td>458</td>\n",
       "      <td>7.0</td>\n",
       "      <td>2.0870</td>\n",
       "    </tr>\n",
       "    <tr>\n",
       "      <th>3</th>\n",
       "      <td>Howto &amp; Style</td>\n",
       "      <td>2016-11-15</td>\n",
       "      <td>UC295-Dw_tDNtZXFeAPAW6Aw</td>\n",
       "      <td>5-Minute Crafts</td>\n",
       "      <td>60600000</td>\n",
       "      <td>3591</td>\n",
       "      <td>9.0</td>\n",
       "      <td>2.0870</td>\n",
       "    </tr>\n",
       "    <tr>\n",
       "      <th>4</th>\n",
       "      <td>Sports</td>\n",
       "      <td>2007-05-11</td>\n",
       "      <td>UCJ5v_MCY6GNUBTO8-D3XoAg</td>\n",
       "      <td>WWE</td>\n",
       "      <td>48400000</td>\n",
       "      <td>43421</td>\n",
       "      <td>11.0</td>\n",
       "      <td>2.0870</td>\n",
       "    </tr>\n",
       "    <tr>\n",
       "      <th>14</th>\n",
       "      <td>Entertainment</td>\n",
       "      <td>2006-11-21</td>\n",
       "      <td>UCp0hYYBW6IMayGgR-WeoCvQ</td>\n",
       "      <td>TheEllenShow</td>\n",
       "      <td>34400000</td>\n",
       "      <td>10692</td>\n",
       "      <td>28.0</td>\n",
       "      <td>2.0870</td>\n",
       "    </tr>\n",
       "    <tr>\n",
       "      <th>...</th>\n",
       "      <td>...</td>\n",
       "      <td>...</td>\n",
       "      <td>...</td>\n",
       "      <td>...</td>\n",
       "      <td>...</td>\n",
       "      <td>...</td>\n",
       "      <td>...</td>\n",
       "      <td>...</td>\n",
       "    </tr>\n",
       "    <tr>\n",
       "      <th>136407</th>\n",
       "      <td>Music</td>\n",
       "      <td>2008-06-07</td>\n",
       "      <td>UCgpvsjvmvrplEbsZZR4P2qQ</td>\n",
       "      <td>skellygore</td>\n",
       "      <td>10000</td>\n",
       "      <td>71</td>\n",
       "      <td>991408.0</td>\n",
       "      <td>53.1435</td>\n",
       "    </tr>\n",
       "    <tr>\n",
       "      <th>136434</th>\n",
       "      <td>Entertainment</td>\n",
       "      <td>2016-12-08</td>\n",
       "      <td>UCHhADtMaBfxHgDWH4unda6w</td>\n",
       "      <td>Kool Khaizer</td>\n",
       "      <td>10105</td>\n",
       "      <td>13</td>\n",
       "      <td>995516.0</td>\n",
       "      <td>53.1435</td>\n",
       "    </tr>\n",
       "    <tr>\n",
       "      <th>136450</th>\n",
       "      <td>Comedy</td>\n",
       "      <td>2007-02-26</td>\n",
       "      <td>UC8sJrbwoTNhbbO_5MzxlAHQ</td>\n",
       "      <td>JediMaster362</td>\n",
       "      <td>10000</td>\n",
       "      <td>252</td>\n",
       "      <td>998847.0</td>\n",
       "      <td>53.1435</td>\n",
       "    </tr>\n",
       "    <tr>\n",
       "      <th>136454</th>\n",
       "      <td>Film and Animation</td>\n",
       "      <td>2010-02-11</td>\n",
       "      <td>UCCIRmHFcVvGyKndXMnJVvtg</td>\n",
       "      <td>EricVsEverything</td>\n",
       "      <td>10100</td>\n",
       "      <td>83</td>\n",
       "      <td>1005370.0</td>\n",
       "      <td>53.1435</td>\n",
       "    </tr>\n",
       "    <tr>\n",
       "      <th>136463</th>\n",
       "      <td>Entertainment</td>\n",
       "      <td>2016-11-08</td>\n",
       "      <td>UCf0RCfzyKoGr5AnLldeI1xw</td>\n",
       "      <td>On The Marc</td>\n",
       "      <td>10028</td>\n",
       "      <td>307</td>\n",
       "      <td>1007560.0</td>\n",
       "      <td>53.1435</td>\n",
       "    </tr>\n",
       "  </tbody>\n",
       "</table>\n",
       "<p>33744 rows × 8 columns</p>\n",
       "</div>"
      ],
      "text/plain": [
       "               category_cc  join_date                   channel  \\\n",
       "0                   Gaming 2010-04-29  UC-lHJZR3Gqxm24_Vd_AJ5Yw   \n",
       "1                Education 2006-09-01  UCbCmjCuTUZos6Inko4u57UQ   \n",
       "3            Howto & Style 2016-11-15  UC295-Dw_tDNtZXFeAPAW6Aw   \n",
       "4                   Sports 2007-05-11  UCJ5v_MCY6GNUBTO8-D3XoAg   \n",
       "14           Entertainment 2006-11-21  UCp0hYYBW6IMayGgR-WeoCvQ   \n",
       "...                    ...        ...                       ...   \n",
       "136407               Music 2008-06-07  UCgpvsjvmvrplEbsZZR4P2qQ   \n",
       "136434       Entertainment 2016-12-08  UCHhADtMaBfxHgDWH4unda6w   \n",
       "136450              Comedy 2007-02-26  UC8sJrbwoTNhbbO_5MzxlAHQ   \n",
       "136454  Film and Animation 2010-02-11  UCCIRmHFcVvGyKndXMnJVvtg   \n",
       "136463       Entertainment 2016-11-08  UCf0RCfzyKoGr5AnLldeI1xw   \n",
       "\n",
       "                        name_cc  subscribers_cc  videos_cc  \\\n",
       "0                     PewDiePie       101000000       3956   \n",
       "1       Cocomelon - Nursery ...        60100000        458   \n",
       "3               5-Minute Crafts        60600000       3591   \n",
       "4                           WWE        48400000      43421   \n",
       "14                 TheEllenShow        34400000      10692   \n",
       "...                         ...             ...        ...   \n",
       "136407               skellygore           10000         71   \n",
       "136434             Kool Khaizer           10105         13   \n",
       "136450            JediMaster362           10000        252   \n",
       "136454         EricVsEverything           10100         83   \n",
       "136463              On The Marc           10028        307   \n",
       "\n",
       "        subscriber_rank_sb  weights  \n",
       "0                      3.0   2.0870  \n",
       "1                      7.0   2.0870  \n",
       "3                      9.0   2.0870  \n",
       "4                     11.0   2.0870  \n",
       "14                    28.0   2.0870  \n",
       "...                    ...      ...  \n",
       "136407            991408.0  53.1435  \n",
       "136434            995516.0  53.1435  \n",
       "136450            998847.0  53.1435  \n",
       "136454           1005370.0  53.1435  \n",
       "136463           1007560.0  53.1435  \n",
       "\n",
       "[33744 rows x 8 columns]"
      ]
     },
     "metadata": {},
     "output_type": "display_data"
    },
    {
     "data": {
      "text/html": [
       "<div>\n",
       "<style scoped>\n",
       "    .dataframe tbody tr th:only-of-type {\n",
       "        vertical-align: middle;\n",
       "    }\n",
       "\n",
       "    .dataframe tbody tr th {\n",
       "        vertical-align: top;\n",
       "    }\n",
       "\n",
       "    .dataframe thead th {\n",
       "        text-align: right;\n",
       "    }\n",
       "</style>\n",
       "<table border=\"1\" class=\"dataframe\">\n",
       "  <thead>\n",
       "    <tr style=\"text-align: right;\">\n",
       "      <th></th>\n",
       "      <th>categories</th>\n",
       "      <th>channel_id</th>\n",
       "      <th>dislike_count</th>\n",
       "      <th>display_id</th>\n",
       "      <th>duration</th>\n",
       "      <th>like_count</th>\n",
       "      <th>upload_date</th>\n",
       "      <th>view_count</th>\n",
       "      <th>dummmy</th>\n",
       "    </tr>\n",
       "  </thead>\n",
       "  <tbody>\n",
       "    <tr>\n",
       "      <th>185</th>\n",
       "      <td>Education</td>\n",
       "      <td>UCzWrhkg9eK5I8Bm3HfV-unA</td>\n",
       "      <td>3.0</td>\n",
       "      <td>jCaqrZ8gSkY</td>\n",
       "      <td>116</td>\n",
       "      <td>11.0</td>\n",
       "      <td>2016-05-03</td>\n",
       "      <td>2720.0</td>\n",
       "      <td>1</td>\n",
       "    </tr>\n",
       "    <tr>\n",
       "      <th>275</th>\n",
       "      <td>Education</td>\n",
       "      <td>UCzWrhkg9eK5I8Bm3HfV-unA</td>\n",
       "      <td>1094.0</td>\n",
       "      <td>VZ6_wQxKVSI</td>\n",
       "      <td>940</td>\n",
       "      <td>2884.0</td>\n",
       "      <td>2015-06-30</td>\n",
       "      <td>4530589.0</td>\n",
       "      <td>1</td>\n",
       "    </tr>\n",
       "    <tr>\n",
       "      <th>276</th>\n",
       "      <td>Education</td>\n",
       "      <td>UCzWrhkg9eK5I8Bm3HfV-unA</td>\n",
       "      <td>4.0</td>\n",
       "      <td>0CsvKzQNd7g</td>\n",
       "      <td>412</td>\n",
       "      <td>12.0</td>\n",
       "      <td>2015-06-20</td>\n",
       "      <td>18053.0</td>\n",
       "      <td>1</td>\n",
       "    </tr>\n",
       "    <tr>\n",
       "      <th>1671</th>\n",
       "      <td>Education</td>\n",
       "      <td>UCzWn_gTaXyH5Idyo8Raf7_A</td>\n",
       "      <td>2.0</td>\n",
       "      <td>WNR69JYddKA</td>\n",
       "      <td>156</td>\n",
       "      <td>68.0</td>\n",
       "      <td>2015-07-24</td>\n",
       "      <td>7758.0</td>\n",
       "      <td>1</td>\n",
       "    </tr>\n",
       "    <tr>\n",
       "      <th>1672</th>\n",
       "      <td>Education</td>\n",
       "      <td>UCzWn_gTaXyH5Idyo8Raf7_A</td>\n",
       "      <td>8.0</td>\n",
       "      <td>0alQMm9IOaI</td>\n",
       "      <td>1109</td>\n",
       "      <td>124.0</td>\n",
       "      <td>2015-07-17</td>\n",
       "      <td>7499.0</td>\n",
       "      <td>1</td>\n",
       "    </tr>\n",
       "    <tr>\n",
       "      <th>...</th>\n",
       "      <td>...</td>\n",
       "      <td>...</td>\n",
       "      <td>...</td>\n",
       "      <td>...</td>\n",
       "      <td>...</td>\n",
       "      <td>...</td>\n",
       "      <td>...</td>\n",
       "      <td>...</td>\n",
       "      <td>...</td>\n",
       "    </tr>\n",
       "    <tr>\n",
       "      <th>72907884</th>\n",
       "      <td>Education</td>\n",
       "      <td>UCrwEMKhsjY8P9-GuIKMYVrQ</td>\n",
       "      <td>174.0</td>\n",
       "      <td>QBQoRWIjkgg</td>\n",
       "      <td>2076</td>\n",
       "      <td>1579.0</td>\n",
       "      <td>2017-05-06</td>\n",
       "      <td>204985.0</td>\n",
       "      <td>1</td>\n",
       "    </tr>\n",
       "    <tr>\n",
       "      <th>72907886</th>\n",
       "      <td>Education</td>\n",
       "      <td>UCrwEMKhsjY8P9-GuIKMYVrQ</td>\n",
       "      <td>9.0</td>\n",
       "      <td>hftL1gF1wuU</td>\n",
       "      <td>866</td>\n",
       "      <td>94.0</td>\n",
       "      <td>2017-04-05</td>\n",
       "      <td>4275.0</td>\n",
       "      <td>1</td>\n",
       "    </tr>\n",
       "    <tr>\n",
       "      <th>72907906</th>\n",
       "      <td>Education</td>\n",
       "      <td>UCrwEMKhsjY8P9-GuIKMYVrQ</td>\n",
       "      <td>6.0</td>\n",
       "      <td>4bLIGxHlRho</td>\n",
       "      <td>1541</td>\n",
       "      <td>194.0</td>\n",
       "      <td>2017-02-05</td>\n",
       "      <td>18325.0</td>\n",
       "      <td>1</td>\n",
       "    </tr>\n",
       "    <tr>\n",
       "      <th>72907907</th>\n",
       "      <td>Education</td>\n",
       "      <td>UCrwEMKhsjY8P9-GuIKMYVrQ</td>\n",
       "      <td>17.0</td>\n",
       "      <td>IGXSM1knSE4</td>\n",
       "      <td>1474</td>\n",
       "      <td>103.0</td>\n",
       "      <td>2017-02-04</td>\n",
       "      <td>12222.0</td>\n",
       "      <td>1</td>\n",
       "    </tr>\n",
       "    <tr>\n",
       "      <th>72914849</th>\n",
       "      <td>Education</td>\n",
       "      <td>UCrwE8kVqtIUVUzKui2WVpuQ</td>\n",
       "      <td>0.0</td>\n",
       "      <td>YAao9rAhLVI</td>\n",
       "      <td>580</td>\n",
       "      <td>14.0</td>\n",
       "      <td>2013-06-29</td>\n",
       "      <td>934.0</td>\n",
       "      <td>1</td>\n",
       "    </tr>\n",
       "  </tbody>\n",
       "</table>\n",
       "<p>6198568 rows × 9 columns</p>\n",
       "</div>"
      ],
      "text/plain": [
       "         categories                channel_id  dislike_count   display_id  \\\n",
       "185       Education  UCzWrhkg9eK5I8Bm3HfV-unA            3.0  jCaqrZ8gSkY   \n",
       "275       Education  UCzWrhkg9eK5I8Bm3HfV-unA         1094.0  VZ6_wQxKVSI   \n",
       "276       Education  UCzWrhkg9eK5I8Bm3HfV-unA            4.0  0CsvKzQNd7g   \n",
       "1671      Education  UCzWn_gTaXyH5Idyo8Raf7_A            2.0  WNR69JYddKA   \n",
       "1672      Education  UCzWn_gTaXyH5Idyo8Raf7_A            8.0  0alQMm9IOaI   \n",
       "...             ...                       ...            ...          ...   \n",
       "72907884  Education  UCrwEMKhsjY8P9-GuIKMYVrQ          174.0  QBQoRWIjkgg   \n",
       "72907886  Education  UCrwEMKhsjY8P9-GuIKMYVrQ            9.0  hftL1gF1wuU   \n",
       "72907906  Education  UCrwEMKhsjY8P9-GuIKMYVrQ            6.0  4bLIGxHlRho   \n",
       "72907907  Education  UCrwEMKhsjY8P9-GuIKMYVrQ           17.0  IGXSM1knSE4   \n",
       "72914849  Education  UCrwE8kVqtIUVUzKui2WVpuQ            0.0  YAao9rAhLVI   \n",
       "\n",
       "          duration  like_count upload_date  view_count  dummmy  \n",
       "185            116        11.0  2016-05-03      2720.0       1  \n",
       "275            940      2884.0  2015-06-30   4530589.0       1  \n",
       "276            412        12.0  2015-06-20     18053.0       1  \n",
       "1671           156        68.0  2015-07-24      7758.0       1  \n",
       "1672          1109       124.0  2015-07-17      7499.0       1  \n",
       "...            ...         ...         ...         ...     ...  \n",
       "72907884      2076      1579.0  2017-05-06    204985.0       1  \n",
       "72907886       866        94.0  2017-04-05      4275.0       1  \n",
       "72907906      1541       194.0  2017-02-05     18325.0       1  \n",
       "72907907      1474       103.0  2017-02-04     12222.0       1  \n",
       "72914849       580        14.0  2013-06-29       934.0       1  \n",
       "\n",
       "[6198568 rows x 9 columns]"
      ]
     },
     "metadata": {},
     "output_type": "display_data"
    }
   ],
   "source": [
    "df_vd_tech = df_vd_f[df_vd_f[\"categories\"].isin(['Science & Technology', 'Education'])]\n",
    "df_ch_tech = df_ch_f[df_ch_f['channel'].isin(df_vd_tech[\"channel_id\"])]\n",
    "display(df_ch_tech)\n",
    "display(df_vd_tech)"
   ]
  },
  {
   "cell_type": "code",
   "execution_count": 7,
   "metadata": {},
   "outputs": [
    {
     "name": "stderr",
     "output_type": "stream",
     "text": [
      "C:\\Users\\Zied\\AppData\\Local\\Temp\\ipykernel_19472\\2126638670.py:3: SettingWithCopyWarning: \n",
      "A value is trying to be set on a copy of a slice from a DataFrame.\n",
      "Try using .loc[row_indexer,col_indexer] = value instead\n",
      "\n",
      "See the caveats in the documentation: https://pandas.pydata.org/pandas-docs/stable/user_guide/indexing.html#returning-a-view-versus-a-copy\n",
      "  df_ch_tech[\"videos_yt\"] = df_ch_tech[\"channel\"].apply(lambda x: df_vd_vid_count[x])\n"
     ]
    }
   ],
   "source": [
    "# gets videos_yt count\n",
    "df_vd_vid_count = dict(df_vd_tech.groupby(\"channel_id\").count().display_id) \n",
    "df_ch_tech[\"videos_yt\"] = df_ch_tech[\"channel\"].apply(lambda x: df_vd_vid_count[x])"
   ]
  },
  {
   "cell_type": "code",
   "execution_count": 8,
   "metadata": {},
   "outputs": [
    {
     "name": "stdout",
     "output_type": "stream",
     "text": [
      "The number of channels is 33744\n",
      "The mean number of videos per channel is 183.69393077287813, the median is 21.0, the min is 1 and the max is 60786\n"
     ]
    }
   ],
   "source": [
    "number_of_videos_per_channel = list(df_vd_vid_count.values())\n",
    "print(\"The number of channels is\", len(number_of_videos_per_channel)) \n",
    "print(\"The mean number of videos per channel is {}, the median is {}, the min is {} and the max is {}\".format(np.mean(number_of_videos_per_channel), np.median(number_of_videos_per_channel), np.min(number_of_videos_per_channel), np.max(number_of_videos_per_channel)))"
   ]
  },
  {
   "cell_type": "code",
   "execution_count": 9,
   "metadata": {},
   "outputs": [
    {
     "data": {
      "image/png": "[encoded data removed]",
      "text/plain": [
       "<Figure size 640x480 with 1 Axes>"
      ]
     },
     "metadata": {},
     "output_type": "display_data"
    }
   ],
   "source": [
    "#Plot the histogram for number of videos per channel\n",
    "vids = plt.hist(list(df_vd_vid_count.values()),\n",
    "                     bins=100,\n",
    "                     histtype='step',\n",
    "                     color='#FFC20A')\n",
    "plt.title(\n",
    "    'Histogram of number videos for different channels')\n",
    "plt.ylabel('Number of videos')\n",
    "plt.xlabel('Channels')\n",
    "\n",
    "#Show the plot\n",
    "plt.show()"
   ]
  },
  {
   "cell_type": "code",
   "execution_count": 10,
   "metadata": {},
   "outputs": [
    {
     "data": {
      "text/plain": [
       "[<matplotlib.lines.Line2D at 0x1979b13ff40>]"
      ]
     },
     "execution_count": 10,
     "metadata": {},
     "output_type": "execute_result"
    },
    {
     "data": {
      "image/png": "[encoded data removed]",
      "text/plain": [
       "<Figure size 640x480 with 1 Axes>"
      ]
     },
     "metadata": {},
     "output_type": "display_data"
    }
   ],
   "source": [
    "plt.loglog(vids[1][1:],vids[0])"
   ]
  },
  {
   "cell_type": "code",
   "execution_count": 11,
   "metadata": {},
   "outputs": [
    {
     "name": "stdout",
     "output_type": "stream",
     "text": [
      "The mean number of likes for a youtube video is 818.2110170842708, the median is nan, the min is 0.0 and the max is 11432004.0\n"
     ]
    }
   ],
   "source": [
    "number_of_likes = df_vd_tech[\"like_count\"]\n",
    "print(\"The mean number of likes for a youtube video is {}, the median is {}, the min is {} and the max is {}\".format(np.mean(number_of_likes), np.median(number_of_likes), np.min(number_of_likes), np.max(number_of_likes)))"
   ]
  },
  {
   "cell_type": "code",
   "execution_count": 12,
   "metadata": {},
   "outputs": [
    {
     "name": "stdout",
     "output_type": "stream",
     "text": [
      "The mean length for a youtube video is 837.5049859903125, the median is 344.0, the min is 1 and the max is 172801\n"
     ]
    },
    {
     "data": {
      "text/html": [
       "<div>\n",
       "<style scoped>\n",
       "    .dataframe tbody tr th:only-of-type {\n",
       "        vertical-align: middle;\n",
       "    }\n",
       "\n",
       "    .dataframe tbody tr th {\n",
       "        vertical-align: top;\n",
       "    }\n",
       "\n",
       "    .dataframe thead th {\n",
       "        text-align: right;\n",
       "    }\n",
       "</style>\n",
       "<table border=\"1\" class=\"dataframe\">\n",
       "  <thead>\n",
       "    <tr style=\"text-align: right;\">\n",
       "      <th></th>\n",
       "      <th>categories</th>\n",
       "      <th>channel_id</th>\n",
       "      <th>dislike_count</th>\n",
       "      <th>display_id</th>\n",
       "      <th>duration</th>\n",
       "      <th>like_count</th>\n",
       "      <th>upload_date</th>\n",
       "      <th>view_count</th>\n",
       "      <th>dummmy</th>\n",
       "    </tr>\n",
       "  </thead>\n",
       "  <tbody>\n",
       "    <tr>\n",
       "      <th>11322</th>\n",
       "      <td>Science &amp; Technology</td>\n",
       "      <td>UCzWA3ov9kcza5XxtHh-lM7Q</td>\n",
       "      <td>1.0</td>\n",
       "      <td>BWUyh4mc53w</td>\n",
       "      <td>7605</td>\n",
       "      <td>19.0</td>\n",
       "      <td>2019-02-08</td>\n",
       "      <td>526.0</td>\n",
       "      <td>1</td>\n",
       "    </tr>\n",
       "    <tr>\n",
       "      <th>27706</th>\n",
       "      <td>Education</td>\n",
       "      <td>UCzTvG9uItC9M19-d0oFXeug</td>\n",
       "      <td>1.0</td>\n",
       "      <td>LZx6uJa5ZOY</td>\n",
       "      <td>8611</td>\n",
       "      <td>41.0</td>\n",
       "      <td>2018-04-05</td>\n",
       "      <td>532.0</td>\n",
       "      <td>1</td>\n",
       "    </tr>\n",
       "    <tr>\n",
       "      <th>27744</th>\n",
       "      <td>Education</td>\n",
       "      <td>UCzTvG9uItC9M19-d0oFXeug</td>\n",
       "      <td>3.0</td>\n",
       "      <td>oekdWFRAAn0</td>\n",
       "      <td>8207</td>\n",
       "      <td>27.0</td>\n",
       "      <td>2018-03-17</td>\n",
       "      <td>389.0</td>\n",
       "      <td>1</td>\n",
       "    </tr>\n",
       "    <tr>\n",
       "      <th>27807</th>\n",
       "      <td>Education</td>\n",
       "      <td>UCzTvG9uItC9M19-d0oFXeug</td>\n",
       "      <td>2.0</td>\n",
       "      <td>bXfQDjRIrTs</td>\n",
       "      <td>7250</td>\n",
       "      <td>39.0</td>\n",
       "      <td>2018-01-17</td>\n",
       "      <td>485.0</td>\n",
       "      <td>1</td>\n",
       "    </tr>\n",
       "    <tr>\n",
       "      <th>32814</th>\n",
       "      <td>Education</td>\n",
       "      <td>UCzTWdr_9IVWWmeStz5qDjoA</td>\n",
       "      <td>46.0</td>\n",
       "      <td>wEsnFB_kacM</td>\n",
       "      <td>7234</td>\n",
       "      <td>844.0</td>\n",
       "      <td>2015-03-27</td>\n",
       "      <td>61801.0</td>\n",
       "      <td>1</td>\n",
       "    </tr>\n",
       "    <tr>\n",
       "      <th>...</th>\n",
       "      <td>...</td>\n",
       "      <td>...</td>\n",
       "      <td>...</td>\n",
       "      <td>...</td>\n",
       "      <td>...</td>\n",
       "      <td>...</td>\n",
       "      <td>...</td>\n",
       "      <td>...</td>\n",
       "      <td>...</td>\n",
       "    </tr>\n",
       "    <tr>\n",
       "      <th>72900746</th>\n",
       "      <td>Education</td>\n",
       "      <td>UCrwpQai5rQkhd2EckS9VaFA</td>\n",
       "      <td>18.0</td>\n",
       "      <td>W-vF91ZhpTU</td>\n",
       "      <td>7472</td>\n",
       "      <td>210.0</td>\n",
       "      <td>2019-02-07</td>\n",
       "      <td>5533.0</td>\n",
       "      <td>1</td>\n",
       "    </tr>\n",
       "    <tr>\n",
       "      <th>72900751</th>\n",
       "      <td>Education</td>\n",
       "      <td>UCrwpQai5rQkhd2EckS9VaFA</td>\n",
       "      <td>60.0</td>\n",
       "      <td>WXhVgJ-gMGg</td>\n",
       "      <td>8243</td>\n",
       "      <td>529.0</td>\n",
       "      <td>2019-01-31</td>\n",
       "      <td>14967.0</td>\n",
       "      <td>1</td>\n",
       "    </tr>\n",
       "    <tr>\n",
       "      <th>72900806</th>\n",
       "      <td>Education</td>\n",
       "      <td>UCrwooWpyfvigpL7kQS_Xc-A</td>\n",
       "      <td>1.0</td>\n",
       "      <td>TAOU6j0m9Rw</td>\n",
       "      <td>10802</td>\n",
       "      <td>11.0</td>\n",
       "      <td>2019-01-12</td>\n",
       "      <td>198.0</td>\n",
       "      <td>1</td>\n",
       "    </tr>\n",
       "    <tr>\n",
       "      <th>72900807</th>\n",
       "      <td>Education</td>\n",
       "      <td>UCrwooWpyfvigpL7kQS_Xc-A</td>\n",
       "      <td>1.0</td>\n",
       "      <td>3octev-QzlE</td>\n",
       "      <td>7200</td>\n",
       "      <td>6.0</td>\n",
       "      <td>2019-01-12</td>\n",
       "      <td>284.0</td>\n",
       "      <td>1</td>\n",
       "    </tr>\n",
       "    <tr>\n",
       "      <th>72900813</th>\n",
       "      <td>Education</td>\n",
       "      <td>UCrwooWpyfvigpL7kQS_Xc-A</td>\n",
       "      <td>6.0</td>\n",
       "      <td>IfxJnH1Qj_c</td>\n",
       "      <td>7200</td>\n",
       "      <td>42.0</td>\n",
       "      <td>2018-12-23</td>\n",
       "      <td>10257.0</td>\n",
       "      <td>1</td>\n",
       "    </tr>\n",
       "  </tbody>\n",
       "</table>\n",
       "<p>50448 rows × 9 columns</p>\n",
       "</div>"
      ],
      "text/plain": [
       "                    categories                channel_id  dislike_count  \\\n",
       "11322     Science & Technology  UCzWA3ov9kcza5XxtHh-lM7Q            1.0   \n",
       "27706                Education  UCzTvG9uItC9M19-d0oFXeug            1.0   \n",
       "27744                Education  UCzTvG9uItC9M19-d0oFXeug            3.0   \n",
       "27807                Education  UCzTvG9uItC9M19-d0oFXeug            2.0   \n",
       "32814                Education  UCzTWdr_9IVWWmeStz5qDjoA           46.0   \n",
       "...                        ...                       ...            ...   \n",
       "72900746             Education  UCrwpQai5rQkhd2EckS9VaFA           18.0   \n",
       "72900751             Education  UCrwpQai5rQkhd2EckS9VaFA           60.0   \n",
       "72900806             Education  UCrwooWpyfvigpL7kQS_Xc-A            1.0   \n",
       "72900807             Education  UCrwooWpyfvigpL7kQS_Xc-A            1.0   \n",
       "72900813             Education  UCrwooWpyfvigpL7kQS_Xc-A            6.0   \n",
       "\n",
       "           display_id  duration  like_count upload_date  view_count  dummmy  \n",
       "11322     BWUyh4mc53w      7605        19.0  2019-02-08       526.0       1  \n",
       "27706     LZx6uJa5ZOY      8611        41.0  2018-04-05       532.0       1  \n",
       "27744     oekdWFRAAn0      8207        27.0  2018-03-17       389.0       1  \n",
       "27807     bXfQDjRIrTs      7250        39.0  2018-01-17       485.0       1  \n",
       "32814     wEsnFB_kacM      7234       844.0  2015-03-27     61801.0       1  \n",
       "...               ...       ...         ...         ...         ...     ...  \n",
       "72900746  W-vF91ZhpTU      7472       210.0  2019-02-07      5533.0       1  \n",
       "72900751  WXhVgJ-gMGg      8243       529.0  2019-01-31     14967.0       1  \n",
       "72900806  TAOU6j0m9Rw     10802        11.0  2019-01-12       198.0       1  \n",
       "72900807  3octev-QzlE      7200         6.0  2019-01-12       284.0       1  \n",
       "72900813  IfxJnH1Qj_c      7200        42.0  2018-12-23     10257.0       1  \n",
       "\n",
       "[50448 rows x 9 columns]"
      ]
     },
     "execution_count": 12,
     "metadata": {},
     "output_type": "execute_result"
    }
   ],
   "source": [
    "durations = df_vd_tech[\"duration\"]\n",
    "print(\"The mean length for a youtube video is {}, the median is {}, the min is {} and the max is {}\".format(np.mean(durations), np.median(durations), np.min(durations), np.max(durations)))\n",
    "df_vd_tech.query(\"duration>=7200\")"
   ]
  },
  {
   "cell_type": "code",
   "execution_count": 13,
   "metadata": {},
   "outputs": [
    {
     "data": {
      "text/plain": [
       "<Axes: xlabel='duration'>"
      ]
     },
     "execution_count": 13,
     "metadata": {},
     "output_type": "execute_result"
    },
    {
     "data": {
      "image/png": "[encoded data removed]",
      "text/plain": [
       "<Figure size 640x480 with 1 Axes>"
      ]
     },
     "metadata": {},
     "output_type": "display_data"
    }
   ],
   "source": [
    "#only look at videos of length less than 7200 seconds, i.e. 2 hours\n",
    "sns.boxplot(x=df_vd_tech.query(\"duration<7200\")[\"duration\"].sample(1000))"
   ]
  },
  {
   "cell_type": "code",
   "execution_count": 25,
   "metadata": {},
   "outputs": [
    {
     "name": "stderr",
     "output_type": "stream",
     "text": [
      "C:\\Users\\Zied\\AppData\\Local\\Temp\\ipykernel_19472\\211520745.py:2: SettingWithCopyWarning: \n",
      "A value is trying to be set on a copy of a slice from a DataFrame.\n",
      "Try using .loc[row_indexer,col_indexer] = value instead\n",
      "\n",
      "See the caveats in the documentation: https://pandas.pydata.org/pandas-docs/stable/user_guide/indexing.html#returning-a-view-versus-a-copy\n",
      "  df_vd_tech[\"like_count_ratio\"] = df_vd_tech['like_count']/df_vd_tech[\"view_count\"]\n"
     ]
    },
    {
     "data": {
      "text/plain": [
       "(0.0018168177586832296, 9.696058980635078e-06)"
      ]
     },
     "execution_count": 25,
     "metadata": {},
     "output_type": "execute_result"
    }
   ],
   "source": [
    "df_vd_tech = df_vd_tech[df_vd_tech[\"view_count\"]!=0]\n",
    "df_vd_tech[\"like_count_ratio\"] = df_vd_tech['like_count']/df_vd_tech[\"view_count\"]\n",
    "stats.pearsonr(df_vd_tech.dropna()[\"duration\"], df_vd_tech.dropna()['like_count_ratio'])"
   ]
  },
  {
   "cell_type": "code",
   "execution_count": 28,
   "metadata": {},
   "outputs": [
    {
     "data": {
      "text/plain": [
       "SpearmanrResult(correlation=0.25086585038801473, pvalue=0.0)"
      ]
     },
     "execution_count": 28,
     "metadata": {},
     "output_type": "execute_result"
    }
   ],
   "source": [
    "stats.spearmanr(df_vd_tech.dropna()[\"duration\"], df_vd_tech.dropna()['like_count_ratio'])"
   ]
  },
  {
   "cell_type": "markdown",
   "metadata": {},
   "source": [
    "There is a small (0.0018), but significant (p < 0.05) positive correlation between the duration of a video and the number of likes it gets."
   ]
  },
  {
   "cell_type": "code",
   "execution_count": 27,
   "metadata": {},
   "outputs": [
    {
     "name": "stderr",
     "output_type": "stream",
     "text": [
      "C:\\Users\\Zied\\AppData\\Local\\Temp\\ipykernel_19472\\2444794570.py:1: SettingWithCopyWarning: \n",
      "A value is trying to be set on a copy of a slice from a DataFrame.\n",
      "Try using .loc[row_indexer,col_indexer] = value instead\n",
      "\n",
      "See the caveats in the documentation: https://pandas.pydata.org/pandas-docs/stable/user_guide/indexing.html#returning-a-view-versus-a-copy\n",
      "  df_vd_tech[\"dislike_count_ratio\"] = df_vd_tech['dislike_count']/df_vd_tech[\"view_count\"]\n"
     ]
    },
    {
     "data": {
      "text/plain": [
       "(-0.00011420381113456257, 0.7809515054319691)"
      ]
     },
     "execution_count": 27,
     "metadata": {},
     "output_type": "execute_result"
    }
   ],
   "source": [
    "df_vd_tech[\"dislike_count_ratio\"] = df_vd_tech['dislike_count']/df_vd_tech[\"view_count\"]\n",
    "stats.pearsonr(df_vd_tech.dropna()[\"duration\"], df_vd_tech.dropna()['dislike_count_ratio'])"
   ]
  },
  {
   "cell_type": "code",
   "execution_count": 29,
   "metadata": {},
   "outputs": [
    {
     "data": {
      "text/plain": [
       "SpearmanrResult(correlation=0.11878760298718419, pvalue=0.0)"
      ]
     },
     "execution_count": 29,
     "metadata": {},
     "output_type": "execute_result"
    }
   ],
   "source": [
    "stats.spearmanr(df_vd_tech.dropna()[\"duration\"], df_vd_tech.dropna()['dislike_count_ratio'])"
   ]
  },
  {
   "cell_type": "markdown",
   "metadata": {},
   "source": [
    "There is a small (0.15), but significant (p < 0.05) positive correlation between the duration of a video and the number of dislikes it gets."
   ]
  },
  {
   "cell_type": "code",
   "execution_count": 110,
   "metadata": {},
   "outputs": [
    {
     "data": {
      "text/plain": [
       "Text(0.5, 0, 'Duration')"
      ]
     },
     "execution_count": 110,
     "metadata": {},
     "output_type": "execute_result"
    },
    {
     "data": {
      "image/png": "[encoded data removed]",
      "text/plain": [
       "<Figure size 640x480 with 1 Axes>"
      ]
     },
     "metadata": {},
     "output_type": "display_data"
    }
   ],
   "source": [
    "df_sample = df_vd_tech.dropna().sample(1000)\n",
    "plt.scatter(df_sample[\"duration\"], df_sample['like_count'])\n",
    "plt.title(\n",
    "    'Scatter plot: likes vs duration of videos')\n",
    "plt.ylabel('Number of likes')\n",
    "plt.xlabel('Duration')"
   ]
  },
  {
   "cell_type": "markdown",
   "metadata": {},
   "source": [
    "We notice that there are no videos of long duration that get a high number of likes."
   ]
  },
  {
   "cell_type": "code",
   "execution_count": 111,
   "metadata": {},
   "outputs": [
    {
     "data": {
      "text/plain": [
       "Text(0.5, 0, 'Duration')"
      ]
     },
     "execution_count": 111,
     "metadata": {},
     "output_type": "execute_result"
    },
    {
     "data": {
      "image/png": "[encoded data removed]",
      "text/plain": [
       "<Figure size 640x480 with 1 Axes>"
      ]
     },
     "metadata": {},
     "output_type": "display_data"
    }
   ],
   "source": [
    "plt.scatter(df_sample[\"duration\"], df_sample['dislike_count'])\n",
    "plt.title(\n",
    "    'Scatter plot: dislikes vs duration of videos')\n",
    "plt.ylabel('Number of dislikes')\n",
    "plt.xlabel('Duration')"
   ]
  },
  {
   "cell_type": "code",
   "execution_count": 131,
   "metadata": {},
   "outputs": [],
   "source": [
    "df_vd_tech_modif = df_vd_tech.copy() \n",
    "df_vd_tech_modif[\"upload_date\"] = df_vd_tech_modif.apply(lambda x: x[\"upload_date\"].strftime(\"%Y\"), axis=1)\n",
    "df_vd_tech_modif_grouped = df_vd_tech_modif.groupby(\"upload_date\")[[\"duration\"]].mean()"
   ]
  },
  {
   "cell_type": "code",
   "execution_count": 137,
   "metadata": {},
   "outputs": [],
   "source": [
    "df_vd_tech_modif_grouped.columns = [\"average_duration\"]"
   ]
  },
  {
   "cell_type": "code",
   "execution_count": 141,
   "metadata": {},
   "outputs": [
    {
     "data": {
      "image/png": "[encoded data removed]",
      "text/plain": [
       "<Figure size 1400x400 with 1 Axes>"
      ]
     },
     "metadata": {},
     "output_type": "display_data"
    }
   ],
   "source": [
    "# Plot : Average video duration per year\n",
    "# Set up the subplots with the figure size (14,4)\n",
    "fig, axes = plt.subplots(nrows=1, ncols=1, figsize=(14, 4))\n",
    "sns.pointplot(x=df_vd_tech_modif_grouped.index,\n",
    "              y='average_duration',\n",
    "              errwidth=1.5,\n",
    "              data=df_vd_tech_modif_grouped,\n",
    "              ax=axes,\n",
    "              color='#005AB5')\n",
    "axes.set_title('Average video duration per year')\n",
    "axes.set_ylabel('Average duration')\n",
    "axes.set_xlabel('Year')\n",
    "axes.grid(axis='y', linestyle='--')"
   ]
  },
  {
   "cell_type": "code",
   "execution_count": 50,
   "metadata": {},
   "outputs": [
    {
     "data": {
      "image/png": "[encoded data removed]",
      "text/plain": [
       "<Figure size 1253.81x460.906 with 25 Axes>"
      ]
     },
     "metadata": {
      "needs_background": "light"
     },
     "output_type": "display_data"
    }
   ],
   "source": [
    "import matplotlib.transforms as transforms\n",
    "\n",
    "fig, axs = plt.subplots(5, 5, figsize=(14, 6), \n",
    "                         gridspec_kw={\"wspace\": 0.25, \"hspace\": 0.1, \n",
    "                                      \"height_ratios\": [0.2, 0.8, 0.65, 0.2, 0.8]})\n",
    "N = len(df_vd_f)#136470\n",
    "    \n",
    "kwargs = {'cumulative': False}\n",
    "\n",
    "def plot_mean(ax, vals):\n",
    "    trans = transforms.blended_transform_factory(ax.transData, ax.transAxes)\n",
    "    trans = transforms.blended_transform_factory(ax.transData, ax.transAxes)\n",
    "    quant95 = vals.quantile(0.95)\n",
    "    quant100 = vals.quantile(1)\n",
    "    plt.plot([np.log10(quant95), np.log10(quant100)], [1.15, 1.15], \n",
    "             lw=1, color = \"black\", transform=trans, clip_on=False)\n",
    "    top5p = vals[vals >= quant95].sum() / sum(vals)\n",
    "    plt.text((np.log10(quant95) + np.log10(quant100)) / 2, 1.25, \n",
    "             \"Top $5\\% = {}\\%$\".format(round(top5p*100,1)), ha=\"center\",\n",
    "        transform=trans, size=10)\n",
    "\n",
    "def plot_box(ax, vals):\n",
    "    trans = transforms.blended_transform_factory(ax.transData, ax.transAxes)\n",
    "    ax.boxplot(np.log10(vals), showfliers=False, vert=False)\n",
    "    ax.set_yticks([])\n",
    "    \n",
    "# Video stuff\n",
    "df_tmp = df_vd_f.sample(N)\n",
    "titles = [\"Views\", \"Likes\", \"Dislikes\", \"Duration\"]\n",
    "cols = [\"view_count\", \"like_count\", \"dislike_count\", \"duration\"]\n",
    "xlabels = [r'$\\log_{10}(views + 1)$', r'$\\log_{10}(likes + 1)$',\n",
    "          r'$\\log_{10}(dislikes + 1)$', r'$\\log_{10}(duration)$ (in seconds)']\n",
    "xticks = [[0, 2, 4, 6, 8], [0, 2, 4], [0, 2, 4], [0, 1, 2, 3, 4, 5]]\n",
    "\n",
    "for idx, title in enumerate(titles):\n",
    "    ax = axs[1, idx]\n",
    "    sns.distplot(np.log10(df_tmp[cols[idx]] + 1), hist_kws=kwargs, kde=False, kde_kws=kwargs, ax=ax, norm_hist=True)\n",
    "    ax.set_xlabel(xlabels[idx])\n",
    "    ax.set_xticks(xticks[idx])\n",
    "    xtickstmp = ax.get_xticks()\n",
    "    xlimtmp = ax.get_xlim()\n",
    "    \n",
    "    ax = axs[0, idx]\n",
    "    ax.set_title(title, pad=25, size=16)\n",
    "    vals = df_tmp[cols[idx]].dropna() + 1\n",
    "    plot_box(ax, vals)\n",
    "    plot_mean(ax, vals)\n",
    "    ax.set_xticks(xtickstmp)\n",
    "    ax.set_xlim(xlimtmp)\n",
    "    "
   ]
  },
  {
   "cell_type": "markdown",
   "metadata": {},
   "source": [
    "## Views, Videos, Likes, Duration"
   ]
  },
  {
   "cell_type": "code",
   "execution_count": 91,
   "metadata": {},
   "outputs": [
    {
     "data": {
      "text/html": [
       "<div>\n",
       "<style scoped>\n",
       "    .dataframe tbody tr th:only-of-type {\n",
       "        vertical-align: middle;\n",
       "    }\n",
       "\n",
       "    .dataframe tbody tr th {\n",
       "        vertical-align: top;\n",
       "    }\n",
       "\n",
       "    .dataframe thead th {\n",
       "        text-align: right;\n",
       "    }\n",
       "</style>\n",
       "<table border=\"1\" class=\"dataframe\">\n",
       "  <thead>\n",
       "    <tr style=\"text-align: right;\">\n",
       "      <th></th>\n",
       "      <th># Views (B)</th>\n",
       "      <th># Videos (M)</th>\n",
       "      <th># Likes (M)</th>\n",
       "      <th>Duration (Years)</th>\n",
       "    </tr>\n",
       "    <tr>\n",
       "      <th>categories</th>\n",
       "      <th></th>\n",
       "      <th></th>\n",
       "      <th></th>\n",
       "      <th></th>\n",
       "    </tr>\n",
       "  </thead>\n",
       "  <tbody>\n",
       "    <tr>\n",
       "      <th>Autos &amp; Vehicles</th>\n",
       "      <td>123.094344</td>\n",
       "      <td>2.256967</td>\n",
       "      <td>956.300323</td>\n",
       "      <td>27.034161</td>\n",
       "    </tr>\n",
       "    <tr>\n",
       "      <th>Comedy</th>\n",
       "      <td>345.039111</td>\n",
       "      <td>1.172503</td>\n",
       "      <td>6134.162539</td>\n",
       "      <td>18.926862</td>\n",
       "    </tr>\n",
       "    <tr>\n",
       "      <th>Education</th>\n",
       "      <td>502.391835</td>\n",
       "      <td>3.795564</td>\n",
       "      <td>2881.361591</td>\n",
       "      <td>117.080173</td>\n",
       "    </tr>\n",
       "    <tr>\n",
       "      <th>Entertainment</th>\n",
       "      <td>2287.747785</td>\n",
       "      <td>12.276397</td>\n",
       "      <td>20140.552867</td>\n",
       "      <td>243.069061</td>\n",
       "    </tr>\n",
       "    <tr>\n",
       "      <th>Film &amp; Animation</th>\n",
       "      <td>576.280807</td>\n",
       "      <td>2.359736</td>\n",
       "      <td>3737.846598</td>\n",
       "      <td>47.726916</td>\n",
       "    </tr>\n",
       "    <tr>\n",
       "      <th>Gaming</th>\n",
       "      <td>1042.503030</td>\n",
       "      <td>13.720303</td>\n",
       "      <td>17351.327104</td>\n",
       "      <td>623.167983</td>\n",
       "    </tr>\n",
       "    <tr>\n",
       "      <th>Howto &amp; Style</th>\n",
       "      <td>420.666785</td>\n",
       "      <td>3.968127</td>\n",
       "      <td>5790.819053</td>\n",
       "      <td>73.645316</td>\n",
       "    </tr>\n",
       "    <tr>\n",
       "      <th>Music</th>\n",
       "      <td>2474.987208</td>\n",
       "      <td>8.305003</td>\n",
       "      <td>19270.464688</td>\n",
       "      <td>124.088194</td>\n",
       "    </tr>\n",
       "    <tr>\n",
       "      <th>News &amp; Politics</th>\n",
       "      <td>158.642354</td>\n",
       "      <td>8.881022</td>\n",
       "      <td>1892.882798</td>\n",
       "      <td>144.766513</td>\n",
       "    </tr>\n",
       "    <tr>\n",
       "      <th>Nonprofits &amp; Activism</th>\n",
       "      <td>18.508415</td>\n",
       "      <td>0.777449</td>\n",
       "      <td>242.948972</td>\n",
       "      <td>29.490161</td>\n",
       "    </tr>\n",
       "    <tr>\n",
       "      <th>People &amp; Blogs</th>\n",
       "      <td>617.343103</td>\n",
       "      <td>6.910666</td>\n",
       "      <td>9138.068304</td>\n",
       "      <td>148.848377</td>\n",
       "    </tr>\n",
       "    <tr>\n",
       "      <th>Pets &amp; Animals</th>\n",
       "      <td>72.076164</td>\n",
       "      <td>0.645508</td>\n",
       "      <td>659.841475</td>\n",
       "      <td>9.905389</td>\n",
       "    </tr>\n",
       "    <tr>\n",
       "      <th>Science &amp; Technology</th>\n",
       "      <td>175.003323</td>\n",
       "      <td>2.403004</td>\n",
       "      <td>1978.449383</td>\n",
       "      <td>47.514995</td>\n",
       "    </tr>\n",
       "    <tr>\n",
       "      <th>Sports</th>\n",
       "      <td>262.006516</td>\n",
       "      <td>4.354412</td>\n",
       "      <td>2528.111024</td>\n",
       "      <td>77.309024</td>\n",
       "    </tr>\n",
       "    <tr>\n",
       "      <th>Travel &amp; Events</th>\n",
       "      <td>56.393865</td>\n",
       "      <td>1.096565</td>\n",
       "      <td>459.804581</td>\n",
       "      <td>19.239761</td>\n",
       "    </tr>\n",
       "  </tbody>\n",
       "</table>\n",
       "</div>"
      ],
      "text/plain": [
       "                       # Views (B)  # Videos (M)   # Likes (M)  \\\n",
       "categories                                                       \n",
       "Autos & Vehicles        123.094344      2.256967    956.300323   \n",
       "Comedy                  345.039111      1.172503   6134.162539   \n",
       "Education               502.391835      3.795564   2881.361591   \n",
       "Entertainment          2287.747785     12.276397  20140.552867   \n",
       "Film & Animation        576.280807      2.359736   3737.846598   \n",
       "Gaming                 1042.503030     13.720303  17351.327104   \n",
       "Howto & Style           420.666785      3.968127   5790.819053   \n",
       "Music                  2474.987208      8.305003  19270.464688   \n",
       "News & Politics         158.642354      8.881022   1892.882798   \n",
       "Nonprofits & Activism    18.508415      0.777449    242.948972   \n",
       "People & Blogs          617.343103      6.910666   9138.068304   \n",
       "Pets & Animals           72.076164      0.645508    659.841475   \n",
       "Science & Technology    175.003323      2.403004   1978.449383   \n",
       "Sports                  262.006516      4.354412   2528.111024   \n",
       "Travel & Events          56.393865      1.096565    459.804581   \n",
       "\n",
       "                       Duration (Years)  \n",
       "categories                               \n",
       "Autos & Vehicles              27.034161  \n",
       "Comedy                        18.926862  \n",
       "Education                    117.080173  \n",
       "Entertainment                243.069061  \n",
       "Film & Animation              47.726916  \n",
       "Gaming                       623.167983  \n",
       "Howto & Style                 73.645316  \n",
       "Music                        124.088194  \n",
       "News & Politics              144.766513  \n",
       "Nonprofits & Activism         29.490161  \n",
       "People & Blogs               148.848377  \n",
       "Pets & Animals                 9.905389  \n",
       "Science & Technology          47.514995  \n",
       "Sports                        77.309024  \n",
       "Travel & Events               19.239761  "
      ]
     },
     "metadata": {},
     "output_type": "display_data"
    }
   ],
   "source": [
    "df_vd_cat_count = df_vd_f.groupby(\"categories\").sum()\n",
    "df_vd_cat_count = df_vd_cat_count.drop([\"\", \"Movies\", \"Shows\"])\n",
    "df_vd_cat_count[[\"dislike_count\", \"like_count\"]] = df_vd_cat_count[[\"dislike_count\", \"like_count\"]] / 1000000\n",
    "df_vd_cat_count[[\"dummmy\"]] = df_vd_cat_count[[\"dummmy\"]] / 1000000\n",
    "df_vd_cat_count[[\"view_count\"]] = df_vd_cat_count[[\"view_count\"]] / 1000000000\n",
    "df_vd_cat_count[[\"duration\"]] = df_vd_cat_count[[\"duration\"]] / 3.154e+7\n",
    "tmp = df_vd_cat_count.rename({\"dislike_count\": \"# Dislikes (M)\",\n",
    "    \"duration\": \"Duration (Years)\",\n",
    "    \"like_count\": \"# Likes (M)\",\n",
    "    \"view_count\": \"# Views (B)\",\n",
    "    \"dummmy\": \"# Videos (M)\"\n",
    "    }, axis=1)[[\"# Views (B)\", \"# Videos (M)\", \"# Likes (M)\", \"Duration (Years)\"]]\n",
    "display(tmp)"
   ]
  },
  {
   "cell_type": "markdown",
   "metadata": {},
   "source": [
    "## Completeness of # videos"
   ]
  },
  {
   "cell_type": "code",
   "execution_count": 14,
   "metadata": {},
   "outputs": [
    {
     "data": {
      "text/plain": [
       "Text(0.5, 1.0, 'Completeness of videos per channel')"
      ]
     },
     "execution_count": 14,
     "metadata": {},
     "output_type": "execute_result"
    },
    {
     "data": {
      "image/png": "[encoded data removed]",
      "text/plain": [
       "<Figure size 504x216 with 1 Axes>"
      ]
     },
     "metadata": {
      "needs_background": "light"
     },
     "output_type": "display_data"
    }
   ],
   "source": [
    "import scipy.stats as stats\n",
    "fig, ax = plt.subplots(1, 1, figsize=(7, 3), sharex=False, gridspec_kw={\"wspace\": 0.30})\n",
    "x = abs(df_ch_f[\"videos_yt\"] - df_ch_f[\"videos_cc\"]) / pd.concat([df_ch_f[\"videos_yt\"], \n",
    "                                                                  df_ch_f[\"videos_cc\"]], axis=1).max(axis=1)\n",
    "\n",
    "\n",
    "x = sorted(x)\n",
    "p = 1. * np.arange(len(x))/(len(x) - 1)\n",
    "p95 = abs(p - 0.95).argmin()\n",
    "ax.plot(x, p, color=\"#e6ab02\")\n",
    "ax.scatter([x[p95]], [p[p95]], zorder=10, color=\"black\", marker=\"X\")\n",
    "ax.text(x[p95] + 0.025, p[p95] -0.0825, \n",
    "        \"For 95\\% of all \\n channels the relative  \\n difference is $\\leq$ 20\\%\", va=\"top\")\n",
    "ax.xaxis.grid(color=\"#CCCCCC\", ls=\":\")\n",
    "ax.yaxis.grid(color=\"#CCCCCC\", ls=\":\")\n",
    "ax.set_ylabel(\"Cumulative \\% of channels\")\n",
    "ax.set_xlabel(r'Relative difference between \\#videos' + '\\n(channelcrawler.com vs. YouTube)')\n",
    "ax.set_title(\"Completeness of videos per channel\")"
   ]
  },
  {
   "cell_type": "code",
   "execution_count": 40,
   "metadata": {},
   "outputs": [
    {
     "data": {
      "text/plain": [
       "8"
      ]
     },
     "execution_count": 40,
     "metadata": {},
     "output_type": "execute_result"
    }
   ],
   "source": [
    "d={'k1':3, 'k2':5}\n",
    "np.sum(list(d.values()))"
   ]
  },
  {
   "cell_type": "code",
   "execution_count": null,
   "metadata": {},
   "outputs": [],
   "source": [
    "#naive bayes classifier with laplace-smoothing\n",
    "def naive_bayes(dict_good, dict_bad, title):\n",
    "    '''dict_good: python dict, contains, as keys, all words from the tech review videos' titles (smoothed; i.e. we add to it all words\n",
    "    that aren't initially in it but are among words in all titles when considering all videos) and, as values, the frequency of the word\n",
    "    (probability; i.e. # of occurences of the word/(# of occurences of all words + smoothing factor*N)); for words that weren't initially present, \n",
    "    we assign to them smoothing factor/(# of occurences of all words + smoothing factor*N)\n",
    "    smoothing factor is chosen to be 1. \n",
    "    N is the number of words that are added (initially not among the words from the titles of tech review videos)\n",
    "    \n",
    "    dict_bad: same idea as dict good, but contains all other words that aren't in the titles of tech review videos (also smoothed) \n",
    "    title: list: the words of the title of a video to which we want to get its score\n",
    "    \n",
    "    returns: \n",
    "    title's score; we can compare this score to 0.5, if it's larger then it's likely \"good\" else it's considered \"bad\"\n",
    "    '''\n",
    "    \n",
    "    proba_good = np.sum(list(dict_good.values()))/(np.sum(list(dict_good.values()))+np.sum(list(dict_bad.values())))\n",
    "    proba_bad = np.sum(list(dict_bad.values()))/(np.sum(list(dict_good.values()))+np.sum(list(dict_bad.values())))\n",
    "    \n",
    "    prob_title_given_good = 1\n",
    "    prob_title_given_bad = 1\n",
    "    for w in title:\n",
    "        prob_title_given_good *= dict_good[w]\n",
    "        prob_title_given_bad *= dict_bad[w]\n",
    "        \n",
    "    score = (prob_title_given_good * proba_good)/(prob_title_given_good * proba_good + prob_title_given_bad * proba_bad)\n",
    "    \n",
    "    return score"
   ]
  }
 ],
 "metadata": {
  "kernelspec": {
   "display_name": "Python 3 (ipykernel)",
   "language": "python",
   "name": "python3"
  },
  "language_info": {
   "codemirror_mode": {
    "name": "ipython",
    "version": 3
   },
   "file_extension": ".py",
   "mimetype": "text/x-python",
   "name": "python",
   "nbconvert_exporter": "python",
   "pygments_lexer": "ipython3",
   "version": "3.9.18"
  }
 },
 "nbformat": 4,
 "nbformat_minor": 4
}
