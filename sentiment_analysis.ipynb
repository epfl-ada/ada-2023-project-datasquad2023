{
 "cells": [
  {
   "cell_type": "code",
   "execution_count": 3,
   "metadata": {
    "tags": []
   },
   "outputs": [],
   "source": [
    "#Vader\n",
    "import vaderSentiment\n",
    "from vaderSentiment.vaderSentiment import SentimentIntensityAnalyzer\n",
    "\n",
    "import pandas as pd\n",
    "from tqdm import tqdm\n",
    "import statsmodels.api as sm\n",
    "# import tqdm pandas\n",
    "tqdm.pandas()\n",
    "\n",
    "import matplotlib.pyplot as plt\n",
    "import seaborn as sns\n",
    "\n",
    "from textblob import TextBlob"
   ]
  },
  {
   "cell_type": "code",
   "execution_count": 52,
   "metadata": {
    "tags": []
   },
   "outputs": [],
   "source": [
    "video_data = pd.read_csv('./yt_tech_channels_metadata.tsv.gz', compression='infer', sep='\\t')\n",
    "video_data = video_data[video_data.tech_review]\n",
    "channel_data = pd.read_csv('./tech_review_channels.tsv.gz', compression='infer', sep='\\t')"
   ]
  },
  {
   "cell_type": "code",
   "execution_count": 53,
   "metadata": {
    "tags": []
   },
   "outputs": [],
   "source": [
    "def merge_dfs(video_data, channel_data):\n",
    "    merged = pd.merge(channel_data, video_data, on='channel_id', how='inner')\n",
    "    return merged"
   ]
  },
  {
   "cell_type": "code",
   "execution_count": 54,
   "metadata": {
    "tags": []
   },
   "outputs": [],
   "source": [
    "#merge the 2 dataframes to get both the view count and subscriber rank in one dataframe\n",
    "merged_df = merge_dfs(video_data, channel_data)"
   ]
  },
  {
   "cell_type": "markdown",
   "metadata": {},
   "source": [
    "We choose the view count as our metric, as a title is intended to attract users to click on our video but there is also the video's thumbnail ."
   ]
  },
  {
   "cell_type": "code",
   "execution_count": 55,
   "metadata": {
    "tags": []
   },
   "outputs": [],
   "source": [
    "#function to select a subset of videos, filtering on number of views the videos got\n",
    "def select_subset(df, start, end):\n",
    "    df = df[(df['view_count'] >= start) & (df['view_count'] <= end)]\n",
    "    return df"
   ]
  },
  {
   "cell_type": "code",
   "execution_count": 56,
   "metadata": {
    "tags": []
   },
   "outputs": [],
   "source": [
    "#First we select videos that got views between 0 and 100,000 views as we are targeting new/small channels.\n",
    "#Then we get the sorted df, first by view count, then by subscriber rank both in descending order. Then select the first/top 10% \n",
    "#from the df as we want our readers to be the best.\n",
    "#By doing so we keep the videos that performed well (got many views) and remove the confounder of the channel's power\n",
    "#(as if a channel is already powerful/successful, no matter the title it chooses for its videos it will get many views\n",
    "#while our aim is to give advice to new/small channels)\n",
    "df_subset = select_subset(merged_df, 0, 100000)\n",
    "df_sorted = df_subset.sort_values(by=['view_count', 'subscriber_rank_sb'], ascending=[False, False])\n",
    "df_top_1_per_cent = df_sorted.head(int(len(df_sorted)*0.1))"
   ]
  },
  {
   "cell_type": "code",
   "execution_count": 57,
   "metadata": {
    "tags": []
   },
   "outputs": [],
   "source": [
    "#function to get the sentiment score of a video's title using TextBlob classifier\n",
    "def get_sentiment(df):\n",
    "    df['sentiment'] = df['title'].progress_apply(lambda x: TextBlob(str(x)).sentiment[0])\n",
    "    return df"
   ]
  },
  {
   "cell_type": "code",
   "execution_count": 58,
   "metadata": {
    "tags": []
   },
   "outputs": [],
   "source": [
    "# perform ols regression on sentiment and view_count\n",
    "def ols(X, y):\n",
    "    X = sm.add_constant(X)\n",
    "    model = sm.OLS(y, X).fit()\n",
    "    predictions = model.predict(X)\n",
    "    print_model = model.summary()\n",
    "    print(print_model)\n",
    "    return model"
   ]
  },
  {
   "cell_type": "code",
   "execution_count": 59,
   "metadata": {
    "tags": []
   },
   "outputs": [
    {
     "name": "stderr",
     "output_type": "stream",
     "text": [
      "100%|██████████████████████████████████████████████████████████████████████████| 11851/11851 [00:02<00:00, 4034.12it/s]\n",
      "C:\\Users\\Zied\\AppData\\Local\\Temp\\ipykernel_4928\\2198046105.py:3: SettingWithCopyWarning: \n",
      "A value is trying to be set on a copy of a slice from a DataFrame.\n",
      "Try using .loc[row_indexer,col_indexer] = value instead\n",
      "\n",
      "See the caveats in the documentation: https://pandas.pydata.org/pandas-docs/stable/user_guide/indexing.html#returning-a-view-versus-a-copy\n",
      "  df['sentiment'] = df['title'].progress_apply(lambda x: TextBlob(str(x)).sentiment[0])\n"
     ]
    }
   ],
   "source": [
    "#get sentiment scores for titles of videos that got between 0 and 100,000 views\n",
    "df1 = get_sentiment(df_top_1_per_cent)"
   ]
  },
  {
   "cell_type": "code",
   "execution_count": 60,
   "metadata": {
    "tags": []
   },
   "outputs": [
    {
     "name": "stdout",
     "output_type": "stream",
     "text": [
      "                            OLS Regression Results                            \n",
      "==============================================================================\n",
      "Dep. Variable:             view_count   R-squared:                       0.000\n",
      "Model:                            OLS   Adj. R-squared:                  0.000\n",
      "Method:                 Least Squares   F-statistic:                     5.869\n",
      "Date:                Wed, 20 Dec 2023   Prob (F-statistic):             0.0154\n",
      "Time:                        12:13:58   Log-Likelihood:            -1.2906e+05\n",
      "No. Observations:               11851   AIC:                         2.581e+05\n",
      "Df Residuals:                   11849   BIC:                         2.581e+05\n",
      "Df Model:                           1                                         \n",
      "Covariance Type:            nonrobust                                         \n",
      "==============================================================================\n",
      "                 coef    std err          t      P>|t|      [0.025      0.975]\n",
      "------------------------------------------------------------------------------\n",
      "const       7.379e+04    134.190    549.876      0.000    7.35e+04    7.41e+04\n",
      "sentiment    995.4819    410.916      2.423      0.015     190.020    1800.944\n",
      "==============================================================================\n",
      "Omnibus:                     4561.118   Durbin-Watson:                   0.001\n",
      "Prob(Omnibus):                  0.000   Jarque-Bera (JB):              771.061\n",
      "Skew:                           0.311   Prob(JB):                    3.68e-168\n",
      "Kurtosis:                       1.916   Cond. No.                         3.53\n",
      "==============================================================================\n",
      "\n",
      "Notes:\n",
      "[1] Standard Errors assume that the covariance matrix of the errors is correctly specified.\n"
     ]
    },
    {
     "data": {
      "text/plain": [
       "<statsmodels.regression.linear_model.RegressionResultsWrapper at 0x2b80b8ce310>"
      ]
     },
     "execution_count": 60,
     "metadata": {},
     "output_type": "execute_result"
    }
   ],
   "source": [
    "# perform an ols regression on sentiment and view_count (use sentiment scores to predict the view_count)\n",
    "ols(df1['sentiment'], df1['view_count'])"
   ]
  },
  {
   "cell_type": "markdown",
   "metadata": {},
   "source": [
    "We see that the sentiment coefficient is positive and statistically significant (p-value less than 0.05). This means the more positive the title is the more views the video gets."
   ]
  },
  {
   "cell_type": "code",
   "execution_count": 61,
   "metadata": {
    "tags": []
   },
   "outputs": [
    {
     "name": "stderr",
     "output_type": "stream",
     "text": [
      "C:\\Users\\Zied\\AppData\\Local\\Temp\\ipykernel_4928\\1088557561.py:1: UserWarning: \n",
      "\n",
      "`distplot` is a deprecated function and will be removed in seaborn v0.14.0.\n",
      "\n",
      "Please adapt your code to use either `displot` (a figure-level function with\n",
      "similar flexibility) or `histplot` (an axes-level function for histograms).\n",
      "\n",
      "For a guide to updating your code to use the new functions, please see\n",
      "https://gist.github.com/mwaskom/de44147ed2974457ad6372750bbe5751\n",
      "\n",
      "  sns.distplot(df1['sentiment'])\n"
     ]
    },
    {
     "data": {
      "image/png": "[encoded data removed]",
      "text/plain": [
       "<Figure size 640x480 with 1 Axes>"
      ]
     },
     "metadata": {},
     "output_type": "display_data"
    }
   ],
   "source": [
    "sns.distplot(df1['sentiment'])\n",
    "plt.show()"
   ]
  },
  {
   "cell_type": "markdown",
   "metadata": {},
   "source": [
    "We nontheless observe that despite the positive correlation between positive titles and number of views, most \"top videos\" have neutral titles. "
   ]
  },
  {
   "cell_type": "code",
   "execution_count": 62,
   "metadata": {
    "tags": []
   },
   "outputs": [
    {
     "name": "stderr",
     "output_type": "stream",
     "text": [
      "100%|█████████████████████████████████████████████████████████████████████████| 11851/11851 [00:00<00:00, 18391.02it/s]\n",
      "C:\\Users\\Zied\\AppData\\Local\\Temp\\ipykernel_4928\\4097955033.py:2: SettingWithCopyWarning: \n",
      "A value is trying to be set on a copy of a slice from a DataFrame.\n",
      "Try using .loc[row_indexer,col_indexer] = value instead\n",
      "\n",
      "See the caveats in the documentation: https://pandas.pydata.org/pandas-docs/stable/user_guide/indexing.html#returning-a-view-versus-a-copy\n",
      "  df1['sentimentV'] = df1['title'].progress_apply(lambda x: analyzer.polarity_scores(x)['compound'])\n"
     ]
    }
   ],
   "source": [
    "analyzer = SentimentIntensityAnalyzer()\n",
    "df1['sentimentV'] = df1['title'].progress_apply(lambda x: analyzer.polarity_scores(x)['compound'])"
   ]
  },
  {
   "cell_type": "code",
   "execution_count": 65,
   "metadata": {
    "tags": []
   },
   "outputs": [
    {
     "name": "stdout",
     "output_type": "stream",
     "text": [
      "                            OLS Regression Results                            \n",
      "==============================================================================\n",
      "Dep. Variable:             view_count   R-squared:                       0.000\n",
      "Model:                            OLS   Adj. R-squared:                  0.000\n",
      "Method:                 Least Squares   F-statistic:                     4.262\n",
      "Date:                Wed, 20 Dec 2023   Prob (F-statistic):             0.0390\n",
      "Time:                        12:17:07   Log-Likelihood:            -1.2906e+05\n",
      "No. Observations:               11851   AIC:                         2.581e+05\n",
      "Df Residuals:                   11849   BIC:                         2.581e+05\n",
      "Df Model:                           1                                         \n",
      "Covariance Type:            nonrobust                                         \n",
      "==============================================================================\n",
      "                 coef    std err          t      P>|t|      [0.025      0.975]\n",
      "------------------------------------------------------------------------------\n",
      "const       7.384e+04    127.720    578.161      0.000    7.36e+04    7.41e+04\n",
      "sentimentV   977.9702    473.699      2.065      0.039      49.443    1906.497\n",
      "==============================================================================\n",
      "Omnibus:                     4582.117   Durbin-Watson:                   0.001\n",
      "Prob(Omnibus):                  0.000   Jarque-Bera (JB):              772.109\n",
      "Skew:                           0.311   Prob(JB):                    2.18e-168\n",
      "Kurtosis:                       1.916   Cond. No.                         4.01\n",
      "==============================================================================\n",
      "\n",
      "Notes:\n",
      "[1] Standard Errors assume that the covariance matrix of the errors is correctly specified.\n"
     ]
    },
    {
     "data": {
      "text/plain": [
       "<statsmodels.regression.linear_model.RegressionResultsWrapper at 0x2b8b0cbb6d0>"
      ]
     },
     "execution_count": 65,
     "metadata": {},
     "output_type": "execute_result"
    }
   ],
   "source": [
    "# perform an ols regression on sentiment and view_count (use sentiment scores to predict the view_count)\n",
    "ols(df1['sentimentV'], df1['view_count'])"
   ]
  },
  {
   "cell_type": "code",
   "execution_count": 64,
   "metadata": {
    "tags": []
   },
   "outputs": [
    {
     "name": "stderr",
     "output_type": "stream",
     "text": [
      "C:\\Users\\Zied\\AppData\\Local\\Temp\\ipykernel_4928\\1897120003.py:1: UserWarning: \n",
      "\n",
      "`distplot` is a deprecated function and will be removed in seaborn v0.14.0.\n",
      "\n",
      "Please adapt your code to use either `displot` (a figure-level function with\n",
      "similar flexibility) or `histplot` (an axes-level function for histograms).\n",
      "\n",
      "For a guide to updating your code to use the new functions, please see\n",
      "https://gist.github.com/mwaskom/de44147ed2974457ad6372750bbe5751\n",
      "\n",
      "  sns.distplot(df1['sentimentV'])\n"
     ]
    },
    {
     "data": {
      "image/png": "[encoded data removed]",
      "text/plain": [
       "<Figure size 640x480 with 1 Axes>"
      ]
     },
     "metadata": {},
     "output_type": "display_data"
    }
   ],
   "source": [
    "sns.distplot(df1['sentimentV'])\n",
    "plt.show()"
   ]
  },
  {
   "cell_type": "markdown",
   "metadata": {},
   "source": [
    "We see the same results in this case when using Vader classifier: positive titles are positively correlated with the number of views, and most titles are neutral. This is not causation as there is also the video's thumbnail that is a confounder that unfortunately we can't match on."
   ]
  }
 ],
 "metadata": {
  "kernelspec": {
   "display_name": "Python 3 (ipykernel)",
   "language": "python",
   "name": "python3"
  },
  "language_info": {
   "codemirror_mode": {
    "name": "ipython",
    "version": 3
   },
   "file_extension": ".py",
   "mimetype": "text/x-python",
   "name": "python",
   "nbconvert_exporter": "python",
   "pygments_lexer": "ipython3",
   "version": "3.9.18"
  }
 },
 "nbformat": 4,
 "nbformat_minor": 4
}
