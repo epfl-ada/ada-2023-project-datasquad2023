{
 "cells": [
  {
   "cell_type": "code",
   "execution_count": 6,
   "id": "e128ad1a-573b-4d00-896e-e9bf9da1591f",
   "metadata": {
    "tags": []
   },
   "outputs": [],
   "source": [
    "import pandas as pd\n",
    "import numpy as np"
   ]
  },
  {
   "cell_type": "markdown",
   "id": "eeba3584-6f74-45f7-ac3d-67cf94c0ad95",
   "metadata": {},
   "source": [
    "# Load datasets"
   ]
  },
  {
   "cell_type": "code",
   "execution_count": 7,
   "id": "f712cc3a-d461-44d4-9fab-56087f6271f9",
   "metadata": {
    "tags": []
   },
   "outputs": [],
   "source": [
    "df_channels = 'https://zenodo.org/records/4650046/files/df_channels_en.tsv.gz' # 6 mb\n",
    "df_timeseries = 'https://zenodo.org/records/4650046/files/df_timeseries_en.tsv.gz' # 571 mb\n",
    "yt_metadata = 'https://zenodo.org/records/4650046/files/yt_metadata_en.jsonl.gz' # 13.6 gb\n",
    "yt_metadata_feather = 'https://zenodo.org/records/4650046/files/yt_metadata_helper.feather' # 2.8 gb # same as yt_metadata without title, tag, description\n",
    "num_comments = 'https://zenodo.org/records/4650046/files/num_comments.tsv.gz' # 754 mb\n",
    "num_comments_authors = 'https://zenodo.org/records/4650046/files/num_comments_authors.tsv.gz' # 1.4 gb"
   ]
  },
  {
   "cell_type": "code",
   "execution_count": null,
   "id": "6830e54e-70dd-4228-b6fb-5389fc26e0a5",
   "metadata": {
    "tags": []
   },
   "outputs": [],
   "source": [
    "df_timeseries = pd.read_csv(df_timeseries, compression=\"infer\", sep=\"\\t\")\n",
    "yt_metadata_feather = pd.read_feather(yt_metadata_feather)\n",
    "df_channels = pd.read_csv(df_channels, compression=\"infer\", sep=\"\\t\")\n",
    "num_comments = pd.read_csv(num_comments, compression=\"infer\", sep=\"\\t\")\n",
    "num_comments_authors = pd.read_csv(num_comments_authors, compression=\"infer\", sep=\"\\t\")\n",
    "\n",
    "yt_metadata_feather[\"dummmy\"] = 1 # to count number of videos\n",
    "df_timeseries[\"datetime\"] = pd.to_datetime(df_timeseries[\"datetime\"])\n",
    "df_channels[\"join_date\"] = pd.to_datetime(df_channels[\"join_date\"])"
   ]
  },
  {
   "cell_type": "code",
   "execution_count": null,
   "id": "0f65d7ac-8fec-4739-8e5a-75daa5e394c2",
   "metadata": {},
   "outputs": [],
   "source": []
  }
 ],
 "metadata": {
  "kernelspec": {
   "display_name": "Python3",
   "language": "python",
   "name": "python3"
  },
  "language_info": {
   "codemirror_mode": {
    "name": "ipython",
    "version": 3
   },
   "file_extension": ".py",
   "mimetype": "text/x-python",
   "name": "python",
   "nbconvert_exporter": "python",
   "pygments_lexer": "ipython3",
   "version": "3.11.5"
  }
 },
 "nbformat": 4,
 "nbformat_minor": 5
}
