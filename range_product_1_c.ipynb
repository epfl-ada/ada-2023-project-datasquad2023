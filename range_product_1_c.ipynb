{
 "cells": [
  {
   "cell_type": "code",
   "execution_count": 48,
   "id": "64ae62ec-c9f2-4e19-ab0f-d549c33200ba",
   "metadata": {
    "tags": []
   },
   "outputs": [],
   "source": [
    "import pandas as pd\n",
    "import numpy as np\n",
    "import matplotlib.pyplot as plt\n",
    "import time\n",
    "import seaborn as sns\n",
    "import os\n",
    "\n",
    "pd.options.mode.chained_assignment = None"
   ]
  },
  {
   "cell_type": "code",
   "execution_count": 2,
   "id": "65f47dbc-7a5e-4256-ba11-902806c27380",
   "metadata": {
    "tags": []
   },
   "outputs": [],
   "source": [
    "DIR = os.getcwd()\n",
    "\n",
    "# raw data\n",
    "RAW = \"\\data\\\\raw\"\n",
    "PATH_DF_TIMESERIES = DIR + RAW + '\\\\df_timeseries_en.tsv.gz' # 571 mb\n",
    "\n",
    "# clean data\n",
    "CLEAN = \"\\data\\\\clean\"\n",
    "PATH_TECH_CHANNELS = DIR + CLEAN + '\\\\tech_review_channels.tsv.gz'\n",
    "PATH_TECH_VIDEOS = DIR + CLEAN + '\\\\tech_review_videos.tsv.gz'"
   ]
  },
  {
   "cell_type": "code",
   "execution_count": 17,
   "id": "af8be449-3c9d-4a87-9f4b-f46781ae92f7",
   "metadata": {
    "tags": []
   },
   "outputs": [],
   "source": [
    "keywords = {\n",
    "    'laptop':['laptop','macbook','zenbook','vivobook','chromebook','aspire','inspiron','legion','macos','ram','cpu','monitor','keyboard','mouse','linux','windows'],\n",
    "    'phone':['mobile','phone','smartphone','cellphone','verizon','iphone','android','galaxy','pixel','oneplus','ios','case','nexus','redmi','reno','nokia','htc','realme'],\n",
    "    'camera':['camera','dslr','mirrorless','canon','nikon','sony','fujifilm','gopro','aperture','shutter','iso','tripod','lens','portrait']\n",
    "}"
   ]
  },
  {
   "cell_type": "code",
   "execution_count": 10,
   "id": "75f0cc0b-6089-4406-ac61-b40f44c626ee",
   "metadata": {
    "tags": []
   },
   "outputs": [],
   "source": [
    "tech_review_videos = pd.read_csv(PATH_TECH_VIDEOS, compression=\"infer\", sep=\"\\t\")\n",
    "tech_review_channels = pd.read_csv(PATH_TECH_CHANNELS, compression=\"infer\", sep=\"\\t\")"
   ]
  },
  {
   "cell_type": "code",
   "execution_count": 60,
   "id": "1c5adc18-f691-410f-abf7-146a8d4eb712",
   "metadata": {
    "tags": []
   },
   "outputs": [],
   "source": [
    "def classify_product(title, keywords):\n",
    "    count = {}\n",
    "    for keyword in keywords:\n",
    "        count[keyword] = sum([word in title for word in keywords[keyword]])\n",
    "    if len(count) != 0:\n",
    "        return max(count, key=count.get)\n",
    "    else:\n",
    "        return np.nan"
   ]
  },
  {
   "cell_type": "code",
   "execution_count": 12,
   "id": "e60c18d2-50ab-46a4-92cf-5138ece9ff0d",
   "metadata": {
    "tags": []
   },
   "outputs": [],
   "source": [
    "tech_df = pd.merge(tech_review_channels.drop('tech_videos_perc',axis=1),tech_review_videos,on='channel_id',how='left')"
   ]
  },
  {
   "cell_type": "code",
   "execution_count": 51,
   "id": "b4d17b64-f397-4e68-96cf-66f1e9e9ec14",
   "metadata": {
    "tags": []
   },
   "outputs": [
    {
     "data": {
      "text/plain": [
       "Index(['join_date', 'channel_id', 'name_cc', 'subscribers_cc', 'videos_cc',\n",
       "       'subscriber_rank_sb', 'weights', 'count_tech_videos', 'dislike_count',\n",
       "       'display_id', 'duration', 'like_count', 'tags', 'title', 'upload_date',\n",
       "       'view_count', 'num_comms', 'clean_title', 'clean_tags'],\n",
       "      dtype='object')"
      ]
     },
     "execution_count": 51,
     "metadata": {},
     "output_type": "execute_result"
    }
   ],
   "source": [
    "tech_df.columns"
   ]
  },
  {
   "cell_type": "code",
   "execution_count": 55,
   "id": "67575239-bed4-451d-b712-60c317736d48",
   "metadata": {
    "tags": []
   },
   "outputs": [
    {
     "data": {
      "text/plain": [
       "array(['Unbox Therapy', 'Technical Guruji', 'CrazyRussianHacker', ...,\n",
       "       'Full Speed PC', 'Ur PointOfTech', 'FocusCamera TV'], dtype=object)"
      ]
     },
     "execution_count": 55,
     "metadata": {},
     "output_type": "execute_result"
    }
   ],
   "source": [
    "tech_df.sort_values(by='subscribers_cc',ascending=False).name_cc.unique()"
   ]
  },
  {
   "cell_type": "code",
   "execution_count": 59,
   "id": "73ac71cf-246e-46d5-90fe-f2cd69ea23eb",
   "metadata": {
    "tags": []
   },
   "outputs": [
    {
     "data": {
      "text/html": [
       "<div>\n",
       "<style scoped>\n",
       "    .dataframe tbody tr th:only-of-type {\n",
       "        vertical-align: middle;\n",
       "    }\n",
       "\n",
       "    .dataframe tbody tr th {\n",
       "        vertical-align: top;\n",
       "    }\n",
       "\n",
       "    .dataframe thead th {\n",
       "        text-align: right;\n",
       "    }\n",
       "</style>\n",
       "<table border=\"1\" class=\"dataframe\">\n",
       "  <thead>\n",
       "    <tr style=\"text-align: right;\">\n",
       "      <th></th>\n",
       "      <th>display_id</th>\n",
       "    </tr>\n",
       "    <tr>\n",
       "      <th>product_category</th>\n",
       "      <th></th>\n",
       "    </tr>\n",
       "  </thead>\n",
       "  <tbody>\n",
       "    <tr>\n",
       "      <th>camera</th>\n",
       "      <td>37</td>\n",
       "    </tr>\n",
       "    <tr>\n",
       "      <th>laptop</th>\n",
       "      <td>4</td>\n",
       "    </tr>\n",
       "    <tr>\n",
       "      <th>phone</th>\n",
       "      <td>1</td>\n",
       "    </tr>\n",
       "  </tbody>\n",
       "</table>\n",
       "</div>"
      ],
      "text/plain": [
       "                  display_id\n",
       "product_category            \n",
       "camera                    37\n",
       "laptop                     4\n",
       "phone                      1"
      ]
     },
     "execution_count": 59,
     "metadata": {},
     "output_type": "execute_result"
    }
   ],
   "source": [
    "focus_camera_tv = tech_df[tech_df.name_cc=='FocusCamera TV']\n",
    "focus_camera_tv['product_category'] = focus_camera_tv.title.apply(lambda title: classify_product(title.lower(), keywords))\n",
    "focus_camera_tv.groupby('product_category')[['display_id']].count()"
   ]
  },
  {
   "cell_type": "code",
   "execution_count": 56,
   "id": "2ba604b5-2474-4ece-ba87-2ef7b485ded8",
   "metadata": {
    "tags": []
   },
   "outputs": [
    {
     "data": {
      "text/html": [
       "<div>\n",
       "<style scoped>\n",
       "    .dataframe tbody tr th:only-of-type {\n",
       "        vertical-align: middle;\n",
       "    }\n",
       "\n",
       "    .dataframe tbody tr th {\n",
       "        vertical-align: top;\n",
       "    }\n",
       "\n",
       "    .dataframe thead th {\n",
       "        text-align: right;\n",
       "    }\n",
       "</style>\n",
       "<table border=\"1\" class=\"dataframe\">\n",
       "  <thead>\n",
       "    <tr style=\"text-align: right;\">\n",
       "      <th></th>\n",
       "      <th>display_id</th>\n",
       "    </tr>\n",
       "    <tr>\n",
       "      <th>product_category</th>\n",
       "      <th></th>\n",
       "    </tr>\n",
       "  </thead>\n",
       "  <tbody>\n",
       "    <tr>\n",
       "      <th>camera</th>\n",
       "      <td>545</td>\n",
       "    </tr>\n",
       "    <tr>\n",
       "      <th>laptop</th>\n",
       "      <td>11</td>\n",
       "    </tr>\n",
       "    <tr>\n",
       "      <th>phone</th>\n",
       "      <td>3334</td>\n",
       "    </tr>\n",
       "  </tbody>\n",
       "</table>\n",
       "</div>"
      ],
      "text/plain": [
       "                  display_id\n",
       "product_category            \n",
       "camera                   545\n",
       "laptop                    11\n",
       "phone                   3334"
      ]
     },
     "execution_count": 56,
     "metadata": {},
     "output_type": "execute_result"
    }
   ],
   "source": [
    "tech_dad = tech_df[tech_df.name_cc=='Tech Dad']\n",
    "tech_dad['product_category'] = tech_dad.title.apply(lambda title: classify_product(title.lower(), keywords))\n",
    "tech_dad.groupby('product_category')[['display_id']].count()"
   ]
  },
  {
   "cell_type": "code",
   "execution_count": 57,
   "id": "5e810971-c5e7-4baa-b430-db60a56ef393",
   "metadata": {
    "tags": []
   },
   "outputs": [
    {
     "data": {
      "text/html": [
       "<div>\n",
       "<style scoped>\n",
       "    .dataframe tbody tr th:only-of-type {\n",
       "        vertical-align: middle;\n",
       "    }\n",
       "\n",
       "    .dataframe tbody tr th {\n",
       "        vertical-align: top;\n",
       "    }\n",
       "\n",
       "    .dataframe thead th {\n",
       "        text-align: right;\n",
       "    }\n",
       "</style>\n",
       "<table border=\"1\" class=\"dataframe\">\n",
       "  <thead>\n",
       "    <tr style=\"text-align: right;\">\n",
       "      <th></th>\n",
       "      <th>display_id</th>\n",
       "    </tr>\n",
       "    <tr>\n",
       "      <th>product_category</th>\n",
       "      <th></th>\n",
       "    </tr>\n",
       "  </thead>\n",
       "  <tbody>\n",
       "    <tr>\n",
       "      <th>camera</th>\n",
       "      <td>25</td>\n",
       "    </tr>\n",
       "    <tr>\n",
       "      <th>laptop</th>\n",
       "      <td>192</td>\n",
       "    </tr>\n",
       "    <tr>\n",
       "      <th>phone</th>\n",
       "      <td>189</td>\n",
       "    </tr>\n",
       "  </tbody>\n",
       "</table>\n",
       "</div>"
      ],
      "text/plain": [
       "                  display_id\n",
       "product_category            \n",
       "camera                    25\n",
       "laptop                   192\n",
       "phone                    189"
      ]
     },
     "execution_count": 57,
     "metadata": {},
     "output_type": "execute_result"
    }
   ],
   "source": [
    "unbox_therapy = tech_df[tech_df.name_cc=='Unbox Therapy']\n",
    "unbox_therapy['product_category'] = unbox_therapy.title.apply(lambda title: classify_product(title.lower(), keywords))\n",
    "unbox_therapy.groupby('product_category')[['display_id']].count()"
   ]
  },
  {
   "cell_type": "code",
   "execution_count": 74,
   "id": "dd94641d-5c6e-473e-a8d0-c2e6812a7519",
   "metadata": {
    "tags": []
   },
   "outputs": [
    {
     "data": {
      "text/html": [
       "<div>\n",
       "<style scoped>\n",
       "    .dataframe tbody tr th:only-of-type {\n",
       "        vertical-align: middle;\n",
       "    }\n",
       "\n",
       "    .dataframe tbody tr th {\n",
       "        vertical-align: top;\n",
       "    }\n",
       "\n",
       "    .dataframe thead th {\n",
       "        text-align: right;\n",
       "    }\n",
       "</style>\n",
       "<table border=\"1\" class=\"dataframe\">\n",
       "  <thead>\n",
       "    <tr style=\"text-align: right;\">\n",
       "      <th></th>\n",
       "      <th>join_date</th>\n",
       "      <th>channel_id</th>\n",
       "      <th>name_cc</th>\n",
       "      <th>subscribers_cc</th>\n",
       "      <th>videos_cc</th>\n",
       "      <th>subscriber_rank_sb</th>\n",
       "      <th>weights</th>\n",
       "      <th>count_tech_videos</th>\n",
       "      <th>dislike_count</th>\n",
       "      <th>display_id</th>\n",
       "      <th>...</th>\n",
       "      <th>like_count</th>\n",
       "      <th>tags</th>\n",
       "      <th>title</th>\n",
       "      <th>upload_date</th>\n",
       "      <th>view_count</th>\n",
       "      <th>num_comms</th>\n",
       "      <th>clean_title</th>\n",
       "      <th>clean_tags</th>\n",
       "      <th>product_category</th>\n",
       "      <th>upload_year</th>\n",
       "    </tr>\n",
       "  </thead>\n",
       "  <tbody>\n",
       "    <tr>\n",
       "      <th>0</th>\n",
       "      <td>2010-12-21</td>\n",
       "      <td>UCsTcErHg8oDvUnTzoqsYeNw</td>\n",
       "      <td>Unbox Therapy</td>\n",
       "      <td>15300000</td>\n",
       "      <td>1672</td>\n",
       "      <td>206.0</td>\n",
       "      <td>2.087</td>\n",
       "      <td>406.0</td>\n",
       "      <td>1059.0</td>\n",
       "      <td>bOTAZV_Gwq8</td>\n",
       "      <td>...</td>\n",
       "      <td>39063.0</td>\n",
       "      <td>polaroid lab,polaroid,lab,smartphone,smartphon...</td>\n",
       "      <td>A Curious New Smartphone Gadget...</td>\n",
       "      <td>2019-10-02</td>\n",
       "      <td>1528318.0</td>\n",
       "      <td>1682.0</td>\n",
       "      <td>['curious', 'new', 'smartphone', 'gadget']</td>\n",
       "      <td>['polaroid', 'lab', 'polaroid', 'lab', 'smartp...</td>\n",
       "      <td>phone</td>\n",
       "      <td>2019</td>\n",
       "    </tr>\n",
       "    <tr>\n",
       "      <th>1</th>\n",
       "      <td>2010-12-21</td>\n",
       "      <td>UCsTcErHg8oDvUnTzoqsYeNw</td>\n",
       "      <td>Unbox Therapy</td>\n",
       "      <td>15300000</td>\n",
       "      <td>1672</td>\n",
       "      <td>206.0</td>\n",
       "      <td>2.087</td>\n",
       "      <td>406.0</td>\n",
       "      <td>2579.0</td>\n",
       "      <td>ORaO5PBCt74</td>\n",
       "      <td>...</td>\n",
       "      <td>59582.0</td>\n",
       "      <td>apple watch,apple watch series 5,apple,watch,s...</td>\n",
       "      <td>Apple Watch Series 5 - One New Key Feature</td>\n",
       "      <td>2019-09-29</td>\n",
       "      <td>2949283.0</td>\n",
       "      <td>3439.0</td>\n",
       "      <td>['apple', 'watch', 'series', 'one', 'new', 'ke...</td>\n",
       "      <td>['apple', 'watch', 'apple', 'watch', 'series',...</td>\n",
       "      <td>laptop</td>\n",
       "      <td>2019</td>\n",
       "    </tr>\n",
       "    <tr>\n",
       "      <th>2</th>\n",
       "      <td>2010-12-21</td>\n",
       "      <td>UCsTcErHg8oDvUnTzoqsYeNw</td>\n",
       "      <td>Unbox Therapy</td>\n",
       "      <td>15300000</td>\n",
       "      <td>1672</td>\n",
       "      <td>206.0</td>\n",
       "      <td>2.087</td>\n",
       "      <td>406.0</td>\n",
       "      <td>31696.0</td>\n",
       "      <td>mGD1RBhtJNg</td>\n",
       "      <td>...</td>\n",
       "      <td>174705.0</td>\n",
       "      <td>iphone 11,iphone 11 pro,iphone 11 pro max,11 p...</td>\n",
       "      <td>Don't Not Buy The iPhone 11 Pro</td>\n",
       "      <td>2019-09-27</td>\n",
       "      <td>6548316.0</td>\n",
       "      <td>18571.0</td>\n",
       "      <td>['buy', 'iphone', 'pro']</td>\n",
       "      <td>['iphone', 'iphone', 'pro', 'iphone', 'pro', '...</td>\n",
       "      <td>phone</td>\n",
       "      <td>2019</td>\n",
       "    </tr>\n",
       "  </tbody>\n",
       "</table>\n",
       "<p>3 rows × 21 columns</p>\n",
       "</div>"
      ],
      "text/plain": [
       "    join_date                channel_id        name_cc  subscribers_cc  \\\n",
       "0  2010-12-21  UCsTcErHg8oDvUnTzoqsYeNw  Unbox Therapy        15300000   \n",
       "1  2010-12-21  UCsTcErHg8oDvUnTzoqsYeNw  Unbox Therapy        15300000   \n",
       "2  2010-12-21  UCsTcErHg8oDvUnTzoqsYeNw  Unbox Therapy        15300000   \n",
       "\n",
       "   videos_cc  subscriber_rank_sb  weights  count_tech_videos  dislike_count  \\\n",
       "0       1672               206.0    2.087              406.0         1059.0   \n",
       "1       1672               206.0    2.087              406.0         2579.0   \n",
       "2       1672               206.0    2.087              406.0        31696.0   \n",
       "\n",
       "    display_id  ...  like_count  \\\n",
       "0  bOTAZV_Gwq8  ...     39063.0   \n",
       "1  ORaO5PBCt74  ...     59582.0   \n",
       "2  mGD1RBhtJNg  ...    174705.0   \n",
       "\n",
       "                                                tags  \\\n",
       "0  polaroid lab,polaroid,lab,smartphone,smartphon...   \n",
       "1  apple watch,apple watch series 5,apple,watch,s...   \n",
       "2  iphone 11,iphone 11 pro,iphone 11 pro max,11 p...   \n",
       "\n",
       "                                        title upload_date view_count  \\\n",
       "0          A Curious New Smartphone Gadget...  2019-10-02  1528318.0   \n",
       "1  Apple Watch Series 5 - One New Key Feature  2019-09-29  2949283.0   \n",
       "2             Don't Not Buy The iPhone 11 Pro  2019-09-27  6548316.0   \n",
       "\n",
       "   num_comms                                        clean_title  \\\n",
       "0     1682.0         ['curious', 'new', 'smartphone', 'gadget']   \n",
       "1     3439.0  ['apple', 'watch', 'series', 'one', 'new', 'ke...   \n",
       "2    18571.0                           ['buy', 'iphone', 'pro']   \n",
       "\n",
       "                                          clean_tags product_category  \\\n",
       "0  ['polaroid', 'lab', 'polaroid', 'lab', 'smartp...            phone   \n",
       "1  ['apple', 'watch', 'apple', 'watch', 'series',...           laptop   \n",
       "2  ['iphone', 'iphone', 'pro', 'iphone', 'pro', '...            phone   \n",
       "\n",
       "  upload_year  \n",
       "0        2019  \n",
       "1        2019  \n",
       "2        2019  \n",
       "\n",
       "[3 rows x 21 columns]"
      ]
     },
     "execution_count": 74,
     "metadata": {},
     "output_type": "execute_result"
    }
   ],
   "source": [
    "unbox_therapy.head(3)"
   ]
  },
  {
   "cell_type": "code",
   "execution_count": 67,
   "id": "33d47858-778b-4da0-9295-faa081a2405c",
   "metadata": {
    "tags": []
   },
   "outputs": [],
   "source": [
    "unbox_therapy['upload_year'] = pd.to_datetime(unbox_therapy.upload_date).dt.year"
   ]
  },
  {
   "cell_type": "code",
   "execution_count": 73,
   "id": "93fca3b3-820d-4f09-a2e8-a5adb0431e11",
   "metadata": {
    "tags": []
   },
   "outputs": [
    {
     "data": {
      "text/plain": [
       "<Axes: xlabel='upload_year', ylabel='view_count'>"
      ]
     },
     "execution_count": 73,
     "metadata": {},
     "output_type": "execute_result"
    },
    {
     "data": {
      "image/png": "[encoded data removed]",
      "text/plain": [
       "<Figure size 640x480 with 1 Axes>"
      ]
     },
     "metadata": {},
     "output_type": "display_data"
    }
   ],
   "source": [
    "sns.barplot(x=unbox_therapy.upload_year, y=unbox_therapy.view_count, hue=unbox_therapy.product_category, estimator='mean')"
   ]
  },
  {
   "cell_type": "code",
   "execution_count": 82,
   "id": "f6d2dbb0-70be-404b-80e3-9b6e05d9b70b",
   "metadata": {
    "tags": []
   },
   "outputs": [
    {
     "data": {
      "text/plain": [
       "<Axes: xlabel='upload_year', ylabel='count'>"
      ]
     },
     "execution_count": 82,
     "metadata": {},
     "output_type": "execute_result"
    },
    {
     "data": {
      "image/png": "[encoded data removed]",
      "text/plain": [
       "<Figure size 640x480 with 1 Axes>"
      ]
     },
     "metadata": {},
     "output_type": "display_data"
    }
   ],
   "source": [
    "sns.countplot(x=unbox_therapy.upload_year, hue=unbox_therapy.product_category)"
   ]
  },
  {
   "cell_type": "code",
   "execution_count": null,
   "id": "fcddbd0e-59d2-41f2-bb53-895b4526853b",
   "metadata": {},
   "outputs": [],
   "source": []
  }
 ],
 "metadata": {
  "kernelspec": {
   "display_name": "Python [conda env:ada] *",
   "language": "python",
   "name": "conda-env-ada-py"
  },
  "language_info": {
   "codemirror_mode": {
    "name": "ipython",
    "version": 3
   },
   "file_extension": ".py",
   "mimetype": "text/x-python",
   "name": "python",
   "nbconvert_exporter": "python",
   "pygments_lexer": "ipython3",
   "version": "3.9.18"
  }
 },
 "nbformat": 4,
 "nbformat_minor": 5
}
